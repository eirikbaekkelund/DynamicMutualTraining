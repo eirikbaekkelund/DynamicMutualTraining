{
 "cells": [
  {
   "cell_type": "code",
   "execution_count": 1,
   "metadata": {},
   "outputs": [],
   "source": [
    "import numpy as np\n",
    "u_net_loss = np.load('eval_data/baseline_loss.npy')\n",
    "dmt_loss_dms = np.load('eval_data/dmt_loss_dms.npy')\n",
    "dmt_loss_scheduler = np.load('eval_data/dmt_loss_epoch.npy')\n",
    "dmt_loss = np.load('eval_data/dmt_loss.npy')\n",
    "plabel_loss_labeled = np.load('eval_data/plabel_loss.npy')\n",
    "plabel_loss_label = np.load('eval_data/plabel_loss_label.npy')"
   ]
  }
 ],
 "metadata": {
  "kernelspec": {
   "display_name": "base",
   "language": "python",
   "name": "python3"
  },
  "language_info": {
   "codemirror_mode": {
    "name": "ipython",
    "version": 3
   },
   "file_extension": ".py",
   "mimetype": "text/x-python",
   "name": "python",
   "nbconvert_exporter": "python",
   "pygments_lexer": "ipython3",
   "version": "3.9.13"
  },
  "orig_nbformat": 4
 },
 "nbformat": 4,
 "nbformat_minor": 2
}
